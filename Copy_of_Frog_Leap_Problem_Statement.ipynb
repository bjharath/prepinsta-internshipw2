{
  "nbformat": 4,
  "nbformat_minor": 0,
  "metadata": {
    "colab": {
      "provenance": [],
      "include_colab_link": true
    },
    "kernelspec": {
      "name": "python3",
      "display_name": "Python 3"
    },
    "language_info": {
      "name": "python"
    }
  },
  "cells": [
    {
      "cell_type": "markdown",
      "metadata": {
        "id": "view-in-github",
        "colab_type": "text"
      },
      "source": [
        "<a href=\"https://colab.research.google.com/github/bjharath/prepinsta-internshipw2/blob/main/Copy_of_Frog_Leap_Problem_Statement.ipynb\" target=\"_parent\"><img src=\"https://colab.research.google.com/assets/colab-badge.svg\" alt=\"Open In Colab\"/></a>"
      ]
    },
    {
      "cell_type": "markdown",
      "source": [
        "# Problem statement\n",
        "\n",
        "Create famous 'Frog leap' puzzle game. Try completing the game before starting to get an idea about its working.\n",
        "[Demonstration](https://www.neok12.com/games/leap-froggies/leap-froggies.htm).\n",
        "\n",
        "\n",
        "### Rules ###\n",
        "1. The left set of frogs can only move right, the right set of frogs can only move left.\n",
        "2. Frogs can move forward one space, or move two spaces by jumping over another frog from opposite side.\n",
        "3. The puzzle is solved when the two sets of frogs have switched positions.\n",
        "\n",
        "\n",
        "## Steps to solve the problem:\n",
        "### Step1:-\n",
        "- Display green and brown frogs on the left and right sides initially.\n",
        "\n",
        "Initial Display :-  \n",
        "```\n",
        "[ 0 ,  1 ,  2 ,  3 ,  4 ,  5 ,  6 ]\n",
        "['G', 'G', 'G', '-', 'B', 'B', 'B']\n",
        "```\n",
        "<br>\n",
        "Here 'G' represents Green frogs on the left side and 'B' represents brown frogs on the right side. The '-' defines the position of empty leaf.\n",
        "(You can change display according to your imagination or convinience)\n",
        "\n",
        "### Step2:-\n",
        "Accept positions of the frog that you want to move.<br>\n",
        "Example: If we enter position 2 then the game will look like this:-\n",
        "```\n",
        "[ 0 ,  1 ,  2 ,  3 ,  4 ,  5 ,  6 ]\n",
        "['G', 'G', '-', 'G', 'B', 'B', 'B']\n",
        "```\n",
        "\n",
        "### Step3:- ###\n",
        "Define Invalid moves and add conditional 'if' statements accordingly\n",
        "#### Rules\n",
        "1. Entered position should be between 0 to 6. Or a character 'q' to quit the game.\n",
        "2. Entered position cannot be the position of empty leaf.\n",
        "3. If the selected frog position cannot perform the contraints given in rule 2 then the move is invalid.\n",
        "\n",
        "### Step4:-\n",
        "Make the appropriate move by changing the game display."
      ],
      "metadata": {
        "id": "fxZte1ZuP3yr"
      }
    },
    {
      "cell_type": "markdown",
      "source": [
        "## Step 1\n",
        "First create a list `positions` which contains the characters 'G','B' and '-' in the same sequence as given in the initial display state."
      ],
      "metadata": {
        "id": "-viYJbAFQXcJ"
      }
    },
    {
      "cell_type": "code",
      "execution_count": null,
      "metadata": {
        "id": "fSvLBrjwP0sr",
        "colab": {
          "base_uri": "https://localhost:8080/"
        },
        "outputId": "357bf219-2cfd-4568-a56e-e17142a52e32"
      },
      "outputs": [
        {
          "output_type": "stream",
          "name": "stdout",
          "text": [
            "['G', 'G', 'G', '-', 'B', 'B', 'B']\n"
          ]
        }
      ],
      "source": [
        "state=['G','G','G','-','B','B','B']\n",
        "print(state)\n"
      ]
    },
    {
      "cell_type": "markdown",
      "source": [
        "Now print this string ```[ 0 ,  1 ,  2 ,  3 ,  4 ,  5 ,  6 ]``` and after that print the list `positions`"
      ],
      "metadata": {
        "id": "unr1AJLSQj_4"
      }
    },
    {
      "cell_type": "code",
      "source": [
        "\n",
        "\n",
        "position=[0,1,2,3,4,5,6]\n",
        "print(position)"
      ],
      "metadata": {
        "id": "qqKLcfEmQgiZ",
        "colab": {
          "base_uri": "https://localhost:8080/"
        },
        "outputId": "aca77012-9fc7-4be0-bc4b-76e6fe9f3ee8"
      },
      "execution_count": null,
      "outputs": [
        {
          "output_type": "stream",
          "name": "stdout",
          "text": [
            "[0, 1, 2, 3, 4, 5, 6]\n"
          ]
        }
      ]
    },
    {
      "cell_type": "markdown",
      "source": [
        "Take position input from user and write a message as `\"Press q to quit else \\nEnter position of piece:\"`."
      ],
      "metadata": {
        "id": "DuEVsgtjQqXV"
      }
    },
    {
      "cell_type": "code",
      "source": [
        "user_input=input(\"Press q to quit else \\nEnter position of piece:\")"
      ],
      "metadata": {
        "id": "nPz65EKXQnDR",
        "colab": {
          "base_uri": "https://localhost:8080/"
        },
        "outputId": "8bfc9475-7bb2-4e8d-cd6c-95705c38ddcc"
      },
      "execution_count": null,
      "outputs": [
        {
          "name": "stdout",
          "output_type": "stream",
          "text": [
            "Press q to quit else \n",
            "Enter position of piece:3\n"
          ]
        }
      ]
    },
    {
      "cell_type": "markdown",
      "source": [
        "Now the taken input is in string format. So first check if the input is `'q'` character. If input is `'q'` then the person is quiting the game so print `'You Lose'`."
      ],
      "metadata": {
        "id": "ejy_x_eTRJmT"
      }
    },
    {
      "cell_type": "code",
      "source": [
        "if user_input==q:\n",
        "  print(\"You Lose\")"
      ],
      "metadata": {
        "id": "1OrsC7P9QxO6",
        "colab": {
          "base_uri": "https://localhost:8080/",
          "height": 194
        },
        "outputId": "e0712037-b2cf-4f8b-b654-39875851ef5a"
      },
      "execution_count": null,
      "outputs": [
        {
          "output_type": "error",
          "ename": "NameError",
          "evalue": "ignored",
          "traceback": [
            "\u001b[0;31m---------------------------------------------------------------------------\u001b[0m",
            "\u001b[0;31mNameError\u001b[0m                                 Traceback (most recent call last)",
            "\u001b[0;32m<ipython-input-6-4c06b80ab6d9>\u001b[0m in \u001b[0;36m<cell line: 1>\u001b[0;34m()\u001b[0m\n\u001b[0;32m----> 1\u001b[0;31m \u001b[0;32mif\u001b[0m \u001b[0muser_input\u001b[0m\u001b[0;34m==\u001b[0m\u001b[0mq\u001b[0m\u001b[0;34m:\u001b[0m\u001b[0;34m\u001b[0m\u001b[0;34m\u001b[0m\u001b[0m\n\u001b[0m\u001b[1;32m      2\u001b[0m   \u001b[0mprint\u001b[0m\u001b[0;34m(\u001b[0m\u001b[0;34m\"You Lose\"\u001b[0m\u001b[0;34m)\u001b[0m\u001b[0;34m\u001b[0m\u001b[0;34m\u001b[0m\u001b[0m\n",
            "\u001b[0;31mNameError\u001b[0m: name 'q' is not defined"
          ]
        }
      ]
    },
    {
      "cell_type": "markdown",
      "source": [
        "Next if input character is not `'q'` then it has to be some integer. so convert input to integer format."
      ],
      "metadata": {
        "id": "yZJeDTGlRSMe"
      }
    },
    {
      "cell_type": "code",
      "source": [
        "if user_input.isnumeric():\n",
        "  user_input = int(user_input)\n"
      ],
      "metadata": {
        "id": "PWZj_Js6RP2G"
      },
      "execution_count": null,
      "outputs": []
    },
    {
      "cell_type": "markdown",
      "source": [
        "## Step 2\n",
        "Now we have to check validity of the selected positions or move.<br>\n",
        "If the entered number isn't between 0 and 6, then print 'Invalid move'."
      ],
      "metadata": {
        "id": "SyCzN-cYRXZa"
      }
    },
    {
      "cell_type": "code",
      "source": [
        "if user_input <0 and user_input>6:\n",
        "  print(\"invalid move\")"
      ],
      "metadata": {
        "id": "8_edLqe2RU8S"
      },
      "execution_count": null,
      "outputs": []
    },
    {
      "cell_type": "markdown",
      "source": [
        "A frog should be present on the selected position to make a move. If leaf is selected then it doesn't make sense. Therefore, if entered postition is same as the postition of empty leaf then the move is invalid and print `Invalid Move`"
      ],
      "metadata": {
        "id": "Va03g0l5Rlkx"
      }
    },
    {
      "cell_type": "code",
      "source": [
        "if state[user_input]==-1:\n",
        "  print(\"invalid move\")"
      ],
      "metadata": {
        "id": "uM2-D1xGRiH4"
      },
      "execution_count": null,
      "outputs": []
    },
    {
      "cell_type": "markdown",
      "source": [
        "Initialize a variable named `pos2` at value 0, to store the index of empty leaf, so that we can use it later."
      ],
      "metadata": {
        "id": "cp5q2ahQTnwI"
      }
    },
    {
      "cell_type": "code",
      "source": [
        "pos2=0\n"
      ],
      "metadata": {
        "id": "1SkBYDnaTpiV"
      },
      "execution_count": null,
      "outputs": []
    },
    {
      "cell_type": "markdown",
      "source": [
        "```   \n",
        "    Check if the selected frog is 'G':\n",
        "  \n",
        "        (Inside if when it's 'G'. As 'G' is selected frog can move to right only.)\n",
        "        \n",
        "        ❗condition 1\n",
        "\n",
        "        If **selected_position + 1** is less than or equal to 6 and **curent_position + 1** contains '-'\n",
        "        then it's a valid move and store that postion in `pos2`.\n",
        "        \n",
        "        ❗condition2\n",
        "\n",
        "        Else if **selected_position + 2** is less than or equal to 6 and if **current_position + 2**\n",
        "        contains '-' and if **selected_position + 1** contains 'B' then it's a valid move  and store that postion in `pos2`.\n",
        "        \n",
        "        ❗condition3:\n",
        "\n",
        "        Else remainig all are invalid, so print `Invalid Move`\n",
        "      \n",
        "```"
      ],
      "metadata": {
        "id": "V9UFD623R3Oa"
      }
    },
    {
      "cell_type": "code",
      "source": [
        "if state[user_input]=='G':\n",
        "  if user_input+1<=6 and state[user_input+1]==\"-\":\n",
        "    pos2= user_input+1\n",
        "  elif user_input+2<=6 and state[user_input+2]=='-':\n",
        "    pos2=user_input+2\n",
        "  else:\n",
        "    print(\"invalid move\")\n"
      ],
      "metadata": {
        "id": "IDHxpibURriq"
      },
      "execution_count": null,
      "outputs": []
    },
    {
      "cell_type": "markdown",
      "source": [
        "```\n",
        "    Check if the selected frog is 'B':\n",
        "    \n",
        "        (Inside if when it's 'B'. As 'B' is selected frog can move to left only.)\n",
        "        \n",
        "        ❗condition1:\n",
        "\n",
        "        If **selected_position - 1** is more than or equal to 0 and **curent_position - 1** contains '-' then\n",
        "        it's a valid move and and store that postion in `pos2`.\n",
        "        \n",
        "        ❗condition2:\n",
        "\n",
        "        Else if **selected_position - 2** is more than or equal to 0 and if **current_position - 2** contains '-'\n",
        "        and if **selected_position - 1** contains 'G' then it's a valid move and and store that postion in `pos2`.\n",
        "\n",
        "        ❗condition3:\n",
        "        \n",
        "        Else remainig all are invalid,, so print `Invalid Move`.\n",
        "        \n",
        "```"
      ],
      "metadata": {
        "id": "DyQX5nUsTZPF"
      }
    },
    {
      "cell_type": "code",
      "source": [
        "if state[user_input]=='B':\n",
        "  if user_input-1<=6 and state[user_input-1]==\"-\":\n",
        "    pos2=user_input-1\n",
        "  elif user_input-2<=6 and state[user_input-2]=='-':\n",
        "    pos2=user_input-2\n",
        "  else:\n",
        "    print(\"invalid move\")"
      ],
      "metadata": {
        "id": "cQ2G3ZO_TWU5"
      },
      "execution_count": null,
      "outputs": []
    },
    {
      "cell_type": "markdown",
      "source": [
        "Swap the element at selected positions and calculated position2 in the list.<br> So basically we are moving the frog to next valid position by swapping elelments of array."
      ],
      "metadata": {
        "id": "Vads2oztUd4g"
      }
    },
    {
      "cell_type": "code",
      "source": [
        "state[user_input],state[pos2]=state[pos2],state[user_input]"
      ],
      "metadata": {
        "id": "jXOGtww7UeYQ"
      },
      "execution_count": null,
      "outputs": []
    },
    {
      "cell_type": "markdown",
      "source": [
        "Now print the display of the game again to see the change.<br>\n",
        "If we enter position 2 then the output will look like this:-\n",
        "```\n",
        "[ 0 ,  1 ,  2 ,  3 ,  4 ,  5 ,  6 ]\n",
        "['G', 'G', '-', 'G', 'B', 'B', 'B']\n",
        "```"
      ],
      "metadata": {
        "id": "8qF4Q2HsUlZ4"
      }
    },
    {
      "cell_type": "code",
      "source": [
        "print(position)\n",
        "print(state)"
      ],
      "metadata": {
        "id": "0S3oNzG3UifK",
        "colab": {
          "base_uri": "https://localhost:8080/"
        },
        "outputId": "45a396ba-8c62-4d1d-91f5-693a07834766"
      },
      "execution_count": null,
      "outputs": [
        {
          "output_type": "stream",
          "name": "stdout",
          "text": [
            "[0, 1, 2, 3, 4, 5, 6]\n",
            "['G', 'G', 'G', '-', 'B', 'B', 'B']\n"
          ]
        }
      ]
    },
    {
      "cell_type": "markdown",
      "source": [
        "Check for winning condition by comparing the elements of list. If player has won the game print `'You Win'`"
      ],
      "metadata": {
        "id": "EILVGu48UsH-"
      }
    },
    {
      "cell_type": "code",
      "source": [
        "winner_condition = True\n",
        "for i in range(len(state)//2):\n",
        "  if state[i]=='B' and state[len(state)-1-i]=='G':\n",
        "    winner_condition = False\n",
        "if winner_condition:\n",
        "  print(\"You Won\")"
      ],
      "metadata": {
        "id": "GYkZdiA6Uote",
        "colab": {
          "base_uri": "https://localhost:8080/"
        },
        "outputId": "88be23d6-63a7-4d23-acaf-048206ed817a"
      },
      "execution_count": null,
      "outputs": [
        {
          "output_type": "stream",
          "name": "stdout",
          "text": [
            "You Won\n"
          ]
        }
      ]
    },
    {
      "cell_type": "markdown",
      "source": [
        "Now the game should keep running until the player quits, so place all conditional statements inside an infinite loop.<br>\n",
        "\n",
        "1. We have to `'break'` the loop if the player presses `'q'` and quits.\n",
        "\n",
        "2. If the move made by player is `'Invalid Move'` then we have to `'continue'` without executing remaining part of the selected iteration.\n",
        "\n",
        "3. If player wins the game we have to `break` the loop.\n",
        "\n",
        "\n",
        "```\n",
        "Infinite loop:\n",
        "    (inside loop)\n",
        "    1.Take input\n",
        "    2.Check all valid and invalid conditions of `pos`.\n",
        "    3.Make the appropriate move by calculating `pos2`.\n",
        "    4.Display game\n",
        "    4.Check winning condition\n",
        "```"
      ],
      "metadata": {
        "id": "a2a0HHjiUyQ8"
      }
    },
    {
      "cell_type": "code",
      "source": [
        "\n",
        "state = ['G', 'G', 'G', '-', 'B', 'B', 'B']\n",
        "\n",
        "positions =  [ 0 ,  1 ,  2 ,  3 ,  4 ,  5 ,  6 ]\n",
        "\n",
        "print(positions)\n",
        "print(state)\n",
        "\n",
        "pos2 = 0\n",
        "while True:\n",
        "\n",
        "  user_input = input(\"Press q to quit else \\nEnter position of piece: \")\n",
        "\n",
        "  if user_input.lower() ==\"q\":\n",
        "    print(\"You Lose\")\n",
        "    break\n",
        "\n",
        "\n",
        "  if user_input.isnumeric():\n",
        "    user_input = int(user_input)\n",
        "\n",
        "\n",
        "  if user_input < 0 and user_input>6:\n",
        "    print('Invalid move')\n",
        "    continue\n",
        "\n",
        "\n",
        "  if state[user_input]=='-':\n",
        "    print('Invalid move')\n",
        "    continue\n",
        "  if state[user_input]=='G':\n",
        "    if user_input+1 <=6 and state[user_input+1]=='-':\n",
        "      pos2 = user_input+1\n",
        "    elif user_input+2 <=6 and state[user_input+2]=='-':\n",
        "      pos2 = user_input+2\n",
        "    else:\n",
        "      print(\"Invalid Move\")\n",
        "      continue\n",
        "  if state[user_input]=='B':\n",
        "    if user_input-1 <=6 and state[user_input-1]=='-':\n",
        "      pos2 = user_input-1\n",
        "    elif user_input-2 <=6 and state[user_input-2]=='-':\n",
        "      pos2 = user_input-2\n",
        "    else:\n",
        "      print(\"Invalid Move\")\n",
        "      continue\n",
        "  state[user_input],state[pos2] =state[pos2],state[user_input]\n",
        "\n",
        "\n",
        "  print(positions)\n",
        "  print()\n",
        "  print(state)\n",
        "\n",
        "  winner_condition = True\n",
        "  for i in range(len(state)//2):\n",
        "    if state[i]=='B' and state[len(state)-1-i]=='G':\n",
        "      winner_condition = True\n",
        "    else:\n",
        "      winner_condition = False\n",
        "      break\n",
        "\n",
        "\n",
        "\n",
        "  if winner_condition:\n",
        "    print(\"You Won\")\n",
        "    break"
      ],
      "metadata": {
        "id": "BjpQuMCeUvrU",
        "colab": {
          "base_uri": "https://localhost:8080/"
        },
        "outputId": "928b5b30-d42c-463e-f5ab-2bed3c31b191"
      },
      "execution_count": null,
      "outputs": [
        {
          "output_type": "stream",
          "name": "stdout",
          "text": [
            "[0, 1, 2, 3, 4, 5, 6]\n",
            "['G', 'G', 'G', '-', 'B', 'B', 'B']\n",
            "Press q to quit else \n",
            "Enter position of piece: 2\n",
            "[0, 1, 2, 3, 4, 5, 6]\n",
            "\n",
            "['G', 'G', '-', 'G', 'B', 'B', 'B']\n",
            "Press q to quit else \n",
            "Enter position of piece: 4\n",
            "[0, 1, 2, 3, 4, 5, 6]\n",
            "\n",
            "['G', 'G', 'B', 'G', '-', 'B', 'B']\n",
            "Press q to quit else \n",
            "Enter position of piece: 5\n",
            "[0, 1, 2, 3, 4, 5, 6]\n",
            "\n",
            "['G', 'G', 'B', 'G', 'B', '-', 'B']\n",
            "Press q to quit else \n",
            "Enter position of piece: 3\n",
            "[0, 1, 2, 3, 4, 5, 6]\n",
            "\n",
            "['G', 'G', 'B', '-', 'B', 'G', 'B']\n",
            "Press q to quit else \n",
            "Enter position of piece: 1\n",
            "[0, 1, 2, 3, 4, 5, 6]\n",
            "\n",
            "['G', '-', 'B', 'G', 'B', 'G', 'B']\n",
            "Press q to quit else \n",
            "Enter position of piece: 0\n",
            "[0, 1, 2, 3, 4, 5, 6]\n",
            "\n",
            "['-', 'G', 'B', 'G', 'B', 'G', 'B']\n",
            "Press q to quit else \n",
            "Enter position of piece: 2\n",
            "[0, 1, 2, 3, 4, 5, 6]\n",
            "\n",
            "['B', 'G', '-', 'G', 'B', 'G', 'B']\n",
            "Press q to quit else \n",
            "Enter position of piece: 5\n",
            "Invalid Move\n",
            "Press q to quit else \n",
            "Enter position of piece: 4\n",
            "[0, 1, 2, 3, 4, 5, 6]\n",
            "\n",
            "['B', 'G', 'B', 'G', '-', 'G', 'B']\n",
            "Press q to quit else \n",
            "Enter position of piece: 6\n",
            "[0, 1, 2, 3, 4, 5, 6]\n",
            "\n",
            "['B', 'G', 'B', 'G', 'B', 'G', '-']\n",
            "Press q to quit else \n",
            "Enter position of piece: 5\n",
            "[0, 1, 2, 3, 4, 5, 6]\n",
            "\n",
            "['B', 'G', 'B', 'G', 'B', '-', 'G']\n",
            "Press q to quit else \n",
            "Enter position of piece: 3\n",
            "[0, 1, 2, 3, 4, 5, 6]\n",
            "\n",
            "['B', 'G', 'B', '-', 'B', 'G', 'G']\n",
            "Press q to quit else \n",
            "Enter position of piece: 1\n",
            "[0, 1, 2, 3, 4, 5, 6]\n",
            "\n",
            "['B', '-', 'B', 'G', 'B', 'G', 'G']\n",
            "Press q to quit else \n",
            "Enter position of piece: 2\n",
            "[0, 1, 2, 3, 4, 5, 6]\n",
            "\n",
            "['B', 'B', '-', 'G', 'B', 'G', 'G']\n",
            "Press q to quit else \n",
            "Enter position of piece: 4\n",
            "[0, 1, 2, 3, 4, 5, 6]\n",
            "\n",
            "['B', 'B', 'B', 'G', '-', 'G', 'G']\n",
            "Press q to quit else \n",
            "Enter position of piece: 4\n",
            "Invalid move\n",
            "Press q to quit else \n",
            "Enter position of piece: 3\n",
            "[0, 1, 2, 3, 4, 5, 6]\n",
            "\n",
            "['B', 'B', 'B', '-', 'G', 'G', 'G']\n",
            "You Won\n"
          ]
        }
      ]
    },
    {
      "cell_type": "code",
      "source": [],
      "metadata": {
        "id": "4AxJB8JN1ou9"
      },
      "execution_count": null,
      "outputs": []
    }
  ]
}